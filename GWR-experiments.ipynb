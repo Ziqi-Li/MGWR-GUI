{
 "cells": [
  {
   "cell_type": "code",
   "execution_count": 1,
   "metadata": {
    "collapsed": false
   },
   "outputs": [],
   "source": [
    "import sys\n",
    "sys.path.append('/Users/Ziqi/Desktop/developer/GWR-UI-ZIQI/pysal/contrib/gwr/')\n",
    "from pysal.contrib.gwr.gwr import MGWR,GWR\n",
    "from pysal.contrib.glm.glm import GLM\n",
    "from pysal.contrib.gwr.sel_bw import Sel_BW\n",
    "#sys.path.append('/Users/Ziqi/Downloads/')\n",
    "\n",
    "import numpy as np\n",
    "import pandas as pd"
   ]
  },
  {
   "cell_type": "code",
   "execution_count": 2,
   "metadata": {
    "collapsed": false
   },
   "outputs": [],
   "source": [
    "#df = pd.read_csv('/Users/Ziqi/Desktop/2016 Election Data/df_z_cleaned_cols.csv')\n",
    "#With 3rd_party included\n",
    "df = pd.read_csv('/Users/Ziqi/Desktop/developer/GWR-UI-ZIQI/test.csv') "
   ]
  },
  {
   "cell_type": "code",
   "execution_count": 10,
   "metadata": {
    "collapsed": false
   },
   "outputs": [],
   "source": [
    "y = df.z_pct_dem.as_matrix().reshape(-1,1)\n",
    "df['Intercept'] = 1\n",
    "X = df.ix[:,5:].as_matrix()\n",
    "u = df.proj_X\n",
    "v = df.proj_Y\n",
    "coords = list(zip(u,v))"
   ]
  },
  {
   "cell_type": "code",
   "execution_count": 63,
   "metadata": {
    "collapsed": false
   },
   "outputs": [
    {
     "name": "stdout",
     "output_type": "stream",
     "text": [
      "(99, 2)\n"
     ]
    },
    {
     "ename": "NameError",
     "evalue": "name 'scipy' is not defined",
     "output_type": "error",
     "traceback": [
      "\u001b[0;31m---------------------------------------------------------------------------\u001b[0m",
      "\u001b[0;31mNameError\u001b[0m                                 Traceback (most recent call last)",
      "\u001b[0;32m<ipython-input-63-fb3bba7d0f61>\u001b[0m in \u001b[0;36m<module>\u001b[0;34m()\u001b[0m\n\u001b[0;32m----> 1\u001b[0;31m \u001b[0mget_ipython\u001b[0m\u001b[0;34m(\u001b[0m\u001b[0;34m)\u001b[0m\u001b[0;34m.\u001b[0m\u001b[0mrun_cell_magic\u001b[0m\u001b[0;34m(\u001b[0m\u001b[0;34m'time'\u001b[0m\u001b[0;34m,\u001b[0m \u001b[0;34m''\u001b[0m\u001b[0;34m,\u001b[0m \u001b[0;34m\"bw = Sel_BW(coords, y, X, multi=True,constant=False)\\nbws = bw.search(criterion='AICc',tol_multi=1e-05, rss_score=True,init_multi=False)\\nXB = bw.XB\\nerr = bw.err \\nresults = MGWR(coords, y, X, bws, XB, err,constant=False).fit()\\n\\n\\nscipy.stats.pearsonr(y,results.predy)\"\u001b[0m\u001b[0;34m)\u001b[0m\u001b[0;34m\u001b[0m\u001b[0m\n\u001b[0m",
      "\u001b[0;32m/Users/Ziqi/anaconda/lib/python3.5/site-packages/IPython/core/interactiveshell.py\u001b[0m in \u001b[0;36mrun_cell_magic\u001b[0;34m(self, magic_name, line, cell)\u001b[0m\n\u001b[1;32m   2113\u001b[0m             \u001b[0mmagic_arg_s\u001b[0m \u001b[0;34m=\u001b[0m \u001b[0mself\u001b[0m\u001b[0;34m.\u001b[0m\u001b[0mvar_expand\u001b[0m\u001b[0;34m(\u001b[0m\u001b[0mline\u001b[0m\u001b[0;34m,\u001b[0m \u001b[0mstack_depth\u001b[0m\u001b[0;34m)\u001b[0m\u001b[0;34m\u001b[0m\u001b[0m\n\u001b[1;32m   2114\u001b[0m             \u001b[0;32mwith\u001b[0m \u001b[0mself\u001b[0m\u001b[0;34m.\u001b[0m\u001b[0mbuiltin_trap\u001b[0m\u001b[0;34m:\u001b[0m\u001b[0;34m\u001b[0m\u001b[0m\n\u001b[0;32m-> 2115\u001b[0;31m                 \u001b[0mresult\u001b[0m \u001b[0;34m=\u001b[0m \u001b[0mfn\u001b[0m\u001b[0;34m(\u001b[0m\u001b[0mmagic_arg_s\u001b[0m\u001b[0;34m,\u001b[0m \u001b[0mcell\u001b[0m\u001b[0;34m)\u001b[0m\u001b[0;34m\u001b[0m\u001b[0m\n\u001b[0m\u001b[1;32m   2116\u001b[0m             \u001b[0;32mreturn\u001b[0m \u001b[0mresult\u001b[0m\u001b[0;34m\u001b[0m\u001b[0m\n\u001b[1;32m   2117\u001b[0m \u001b[0;34m\u001b[0m\u001b[0m\n",
      "\u001b[0;32m<decorator-gen-59>\u001b[0m in \u001b[0;36mtime\u001b[0;34m(self, line, cell, local_ns)\u001b[0m\n",
      "\u001b[0;32m/Users/Ziqi/anaconda/lib/python3.5/site-packages/IPython/core/magic.py\u001b[0m in \u001b[0;36m<lambda>\u001b[0;34m(f, *a, **k)\u001b[0m\n\u001b[1;32m    186\u001b[0m     \u001b[0;31m# but it's overkill for just that one bit of state.\u001b[0m\u001b[0;34m\u001b[0m\u001b[0;34m\u001b[0m\u001b[0m\n\u001b[1;32m    187\u001b[0m     \u001b[0;32mdef\u001b[0m \u001b[0mmagic_deco\u001b[0m\u001b[0;34m(\u001b[0m\u001b[0marg\u001b[0m\u001b[0;34m)\u001b[0m\u001b[0;34m:\u001b[0m\u001b[0;34m\u001b[0m\u001b[0m\n\u001b[0;32m--> 188\u001b[0;31m         \u001b[0mcall\u001b[0m \u001b[0;34m=\u001b[0m \u001b[0;32mlambda\u001b[0m \u001b[0mf\u001b[0m\u001b[0;34m,\u001b[0m \u001b[0;34m*\u001b[0m\u001b[0ma\u001b[0m\u001b[0;34m,\u001b[0m \u001b[0;34m**\u001b[0m\u001b[0mk\u001b[0m\u001b[0;34m:\u001b[0m \u001b[0mf\u001b[0m\u001b[0;34m(\u001b[0m\u001b[0;34m*\u001b[0m\u001b[0ma\u001b[0m\u001b[0;34m,\u001b[0m \u001b[0;34m**\u001b[0m\u001b[0mk\u001b[0m\u001b[0;34m)\u001b[0m\u001b[0;34m\u001b[0m\u001b[0m\n\u001b[0m\u001b[1;32m    189\u001b[0m \u001b[0;34m\u001b[0m\u001b[0m\n\u001b[1;32m    190\u001b[0m         \u001b[0;32mif\u001b[0m \u001b[0mcallable\u001b[0m\u001b[0;34m(\u001b[0m\u001b[0marg\u001b[0m\u001b[0;34m)\u001b[0m\u001b[0;34m:\u001b[0m\u001b[0;34m\u001b[0m\u001b[0m\n",
      "\u001b[0;32m/Users/Ziqi/anaconda/lib/python3.5/site-packages/IPython/core/magics/execution.py\u001b[0m in \u001b[0;36mtime\u001b[0;34m(self, line, cell, local_ns)\u001b[0m\n\u001b[1;32m   1178\u001b[0m         \u001b[0;32melse\u001b[0m\u001b[0;34m:\u001b[0m\u001b[0;34m\u001b[0m\u001b[0m\n\u001b[1;32m   1179\u001b[0m             \u001b[0mst\u001b[0m \u001b[0;34m=\u001b[0m \u001b[0mclock2\u001b[0m\u001b[0;34m(\u001b[0m\u001b[0;34m)\u001b[0m\u001b[0;34m\u001b[0m\u001b[0m\n\u001b[0;32m-> 1180\u001b[0;31m             \u001b[0mexec\u001b[0m\u001b[0;34m(\u001b[0m\u001b[0mcode\u001b[0m\u001b[0;34m,\u001b[0m \u001b[0mglob\u001b[0m\u001b[0;34m,\u001b[0m \u001b[0mlocal_ns\u001b[0m\u001b[0;34m)\u001b[0m\u001b[0;34m\u001b[0m\u001b[0m\n\u001b[0m\u001b[1;32m   1181\u001b[0m             \u001b[0mend\u001b[0m \u001b[0;34m=\u001b[0m \u001b[0mclock2\u001b[0m\u001b[0;34m(\u001b[0m\u001b[0;34m)\u001b[0m\u001b[0;34m\u001b[0m\u001b[0m\n\u001b[1;32m   1182\u001b[0m             \u001b[0mout\u001b[0m \u001b[0;34m=\u001b[0m \u001b[0;32mNone\u001b[0m\u001b[0;34m\u001b[0m\u001b[0m\n",
      "\u001b[0;32m<timed exec>\u001b[0m in \u001b[0;36m<module>\u001b[0;34m()\u001b[0m\n",
      "\u001b[0;31mNameError\u001b[0m: name 'scipy' is not defined"
     ]
    }
   ],
   "source": [
    "%%time\n",
    "bw = Sel_BW(coords, y, X, multi=True,constant=False)\n",
    "bws = bw.search(criterion='AICc',tol_multi=1e-05, rss_score=True,init_multi=False)\n",
    "XB = bw.XB\n",
    "err = bw.err \n",
    "results = MGWR(coords, y, X, bws, XB, err,constant=False).fit()\n",
    "\n",
    "\n",
    "scipy.stats.pearsonr(y,results.predy)"
   ]
  },
  {
   "cell_type": "code",
   "execution_count": 73,
   "metadata": {
    "collapsed": false
   },
   "outputs": [
    {
     "data": {
      "text/plain": [
       "0.65149423112471783"
      ]
     },
     "execution_count": 73,
     "metadata": {},
     "output_type": "execute_result"
    }
   ],
   "source": [
    "import scipy\n",
    "scipy.stats.pearsonr(y,results.predy)[0]\n",
    "yhat = results.predy\n",
    "np.sum((y-np.mean(y))/np.std(y)*(yhat-np.mean(yhat))/np.std(yhat))/99"
   ]
  },
  {
   "cell_type": "code",
   "execution_count": 92,
   "metadata": {
    "collapsed": false
   },
   "outputs": [
    {
     "data": {
      "text/plain": [
       "64.49792888134705"
      ]
     },
     "execution_count": 92,
     "metadata": {},
     "output_type": "execute_result"
    }
   ],
   "source": [
    "np.sum(np.multiply(y-np.mean(y),yhat-np.mean(yhat)))/np.std(y)/np.std(yhat)"
   ]
  },
  {
   "cell_type": "code",
   "execution_count": 91,
   "metadata": {
    "collapsed": false
   },
   "outputs": [
    {
     "data": {
      "text/plain": [
       "array([[-0.29315617],\n",
       "       [ 0.01207311],\n",
       "       [-0.27683924],\n",
       "       [ 1.38148119],\n",
       "       [ 0.75779422],\n",
       "       [-1.50578947],\n",
       "       [ 0.28881549],\n",
       "       [ 0.08230598],\n",
       "       [-0.10805414],\n",
       "       [ 0.7911703 ],\n",
       "       [-0.05372274],\n",
       "       [ 0.30881462],\n",
       "       [ 0.54312169],\n",
       "       [ 0.47197721],\n",
       "       [ 0.7734445 ],\n",
       "       [ 0.1131515 ],\n",
       "       [ 0.12980462],\n",
       "       [ 0.18169746],\n",
       "       [ 0.01484398],\n",
       "       [ 0.15143284],\n",
       "       [ 0.08762804],\n",
       "       [ 0.55974916],\n",
       "       [-0.0164041 ],\n",
       "       [ 3.39560171],\n",
       "       [ 0.425575  ],\n",
       "       [-0.10812906],\n",
       "       [ 0.15084302],\n",
       "       [ 0.43198731],\n",
       "       [ 0.48866381],\n",
       "       [ 0.15256419],\n",
       "       [ 0.45864876],\n",
       "       [ 3.04353564],\n",
       "       [ 1.74589636],\n",
       "       [ 0.16180773],\n",
       "       [ 0.08844669],\n",
       "       [ 0.71018119],\n",
       "       [ 0.24592222],\n",
       "       [ 0.17697019],\n",
       "       [ 0.18204675],\n",
       "       [ 0.26639915],\n",
       "       [ 0.14573061],\n",
       "       [ 0.17005714],\n",
       "       [ 1.52031129],\n",
       "       [ 3.3798244 ],\n",
       "       [-0.08808132],\n",
       "       [ 1.38902289],\n",
       "       [ 0.66845964],\n",
       "       [ 0.55722407],\n",
       "       [ 0.38694805],\n",
       "       [ 0.23971358],\n",
       "       [ 1.21695366],\n",
       "       [ 0.34930002],\n",
       "       [ 4.58761791],\n",
       "       [ 0.12668647],\n",
       "       [ 0.38441678],\n",
       "       [ 0.29165816],\n",
       "       [ 0.15875858],\n",
       "       [ 0.4038359 ],\n",
       "       [-0.01428576],\n",
       "       [ 8.01035592],\n",
       "       [-0.01862819],\n",
       "       [ 0.05584691],\n",
       "       [ 0.45920953],\n",
       "       [ 0.29573119],\n",
       "       [ 0.07870277],\n",
       "       [ 1.55910531],\n",
       "       [ 0.92697346],\n",
       "       [ 0.73061003],\n",
       "       [-0.02326817],\n",
       "       [ 2.26164101],\n",
       "       [ 0.11723155],\n",
       "       [ 0.23837475],\n",
       "       [ 0.03081018],\n",
       "       [ 0.62127591],\n",
       "       [ 0.2292714 ],\n",
       "       [ 0.66434657],\n",
       "       [-0.01978043],\n",
       "       [ 0.60016371],\n",
       "       [-0.18536629],\n",
       "       [ 1.12284907],\n",
       "       [ 0.08138955],\n",
       "       [ 0.09620348],\n",
       "       [ 0.05987991],\n",
       "       [ 0.03354199],\n",
       "       [ 0.82524184],\n",
       "       [ 0.06056106],\n",
       "       [ 0.57558096],\n",
       "       [-0.03635456],\n",
       "       [ 0.14829842],\n",
       "       [ 0.13477575],\n",
       "       [-0.30926075],\n",
       "       [ 0.50196744],\n",
       "       [ 0.04095689],\n",
       "       [ 0.69794041],\n",
       "       [ 0.33266884],\n",
       "       [ 0.03889401],\n",
       "       [ 0.01505351],\n",
       "       [-0.05119475],\n",
       "       [ 0.32370538]])"
      ]
     },
     "execution_count": 91,
     "metadata": {},
     "output_type": "execute_result"
    }
   ],
   "source": [
    "np.multiply(y-np.mean(y),yhat-np.mean(yhat))"
   ]
  },
  {
   "cell_type": "code",
   "execution_count": 81,
   "metadata": {
    "collapsed": false
   },
   "outputs": [
    {
     "data": {
      "text/plain": [
       "array([ 0.65149423])"
      ]
     },
     "execution_count": 81,
     "metadata": {},
     "output_type": "execute_result"
    }
   ],
   "source": [
    "scipy.stats.pearsonr(y,results.predy)[0]"
   ]
  },
  {
   "cell_type": "code",
   "execution_count": 68,
   "metadata": {
    "collapsed": false
   },
   "outputs": [
    {
     "name": "stdout",
     "output_type": "stream",
     "text": [
      " Mean STD Min Q1 Median Q3 Max IQR robust_STD\n",
      "0 -0.25822337016976893 0.5964452986820763 -1.1931268546958944 -0.7400358109399049 -0.2847919607296049 0.3185463960307199 0.5581794152975565 1.0585822069706248 0.7847162394148441\n",
      "1 -0.9578131731760681 0.4509951421596054 -1.8606936714412783 -1.2708910962267481 -0.9060090694076267 -0.7125130253333605 -0.08443245248292974 0.5583780708933876 0.41391999324936074\n",
      "\n"
     ]
    }
   ],
   "source": [
    "pMean = np.mean(results.params[1,],axis=0)\n",
    "pMin = np.min(results.params,axis=0)\n",
    "pMax = np.max(results.params,axis=0)\n",
    "pMedian = np.median(results.params,axis=0)\n",
    "pSTD = np.std(results.params,axis=0)\n",
    "pQ3, pQ1 = np.percentile(results.params, [75 ,25],axis=0)\n",
    "IQR = pQ3 - pQ1\n",
    "rSTD = IQR/1.349\n",
    "pSummary = pd.DataFrame(np.column_stack((pMean,pSTD,pMin,pQ1,pMedian,pQ3,pMax,IQR,rSTD)))\n",
    "pSummary.columns = ['Mean','STD','Min','Q1','Median','Q3','Max','IQR','robust_STD']\n",
    "print (pSummary.to_csv(sep=' ', index=True, header=True))"
   ]
  },
  {
   "cell_type": "code",
   "execution_count": 300,
   "metadata": {
    "collapsed": false
   },
   "outputs": [
    {
     "name": "stdout",
     "output_type": "stream",
     "text": [
      "83.0 83.0 80.0\n"
     ]
    }
   ],
   "source": [
    "#GWR\n",
    "bw1 = Sel_BW(coords, y, X,constant=False,fixed=False).search(criterion='AICc', search='golden_section',\n",
    "                        bw_min=3.0, bw_max=200)\n",
    "\n",
    "bw2 = Sel_BW(coords, y, X,constant=False,fixed=False).search(criterion='AICc', search='golden_section')\n",
    "\n",
    "bw3 = Sel_BW(coords, y, X,constant=False,fixed=False).search(criterion='AICc', search='interval',\n",
    "                        bw_min=80.0, bw_max=95.0, interval=3)\n",
    "\n",
    "results = GWR(coords, y, X, bw1,kernel='bisquare',constant=True).fit()\n",
    "print(bw1,bw2,bw3)"
   ]
  },
  {
   "cell_type": "code",
   "execution_count": 327,
   "metadata": {
    "collapsed": false
   },
   "outputs": [
    {
     "data": {
      "text/plain": [
       "(12,)"
      ]
     },
     "execution_count": 327,
     "metadata": {},
     "output_type": "execute_result"
    }
   ],
   "source": [
    "GLM(y,X).fit().params.shape"
   ]
  },
  {
   "cell_type": "code",
   "execution_count": 113,
   "metadata": {
    "collapsed": false
   },
   "outputs": [
    {
     "data": {
      "text/plain": [
       "111.38901349022663"
      ]
     },
     "execution_count": 113,
     "metadata": {},
     "output_type": "execute_result"
    }
   ],
   "source": [
    "k = 12\n",
    "n = result.n\n",
    "aicc = -2*result.llf + 2.0*k*(k+1)/(n-k-1)  \n",
    "aicc"
   ]
  },
  {
   "cell_type": "code",
   "execution_count": 107,
   "metadata": {
    "collapsed": false
   },
   "outputs": [
    {
     "data": {
      "text/plain": [
       "131.76110651348245"
      ]
     },
     "execution_count": 107,
     "metadata": {},
     "output_type": "execute_result"
    }
   ],
   "source": [
    "aic = -2*result.llf + 2*k\n",
    "aic"
   ]
  },
  {
   "cell_type": "code",
   "execution_count": 117,
   "metadata": {
    "collapsed": false
   },
   "outputs": [
    {
     "data": {
      "text/plain": [
       "110.79558927210313"
      ]
     },
     "execution_count": 117,
     "metadata": {},
     "output_type": "execute_result"
    }
   ],
   "source": [
    "v1 = result.df_model\n",
    "n = result.model.n\n",
    "-2 * result.llf + 2.0*v1*(v1 + 1.0)/(n-v1-1.0)"
   ]
  },
  {
   "cell_type": "code",
   "execution_count": 349,
   "metadata": {
    "collapsed": false
   },
   "outputs": [],
   "source": [
    "#np.repeat([1,2], 5, axis=1)\n",
    "est = np.array([GLM(y,X).fit().params]*99)\n",
    "est_gwr = results.params\n",
    "XB = np.multiply(est_gwr, X)\n"
   ]
  },
  {
   "cell_type": "code",
   "execution_count": 289,
   "metadata": {
    "collapsed": false
   },
   "outputs": [],
   "source": [
    "import pyproj\n",
    "\n",
    "xCoor = df[['X']].ix[:,0].tolist()\n",
    "yCoor = df[['Y']].ix[:,0].tolist()\n",
    "wgs84=pyproj.Proj(\"+init=EPSG:4326\")\n",
    "web=pyproj.Proj(\"+init=EPSG:3857\")\n",
    "xx, yy = pyproj.transform(wgs84, web, xCoor, yCoor)\n",
    "scoords = list(zip(xx,yy))"
   ]
  },
  {
   "cell_type": "code",
   "execution_count": 204,
   "metadata": {
    "collapsed": false
   },
   "outputs": [
    {
     "data": {
      "text/plain": [
       "True"
      ]
     },
     "execution_count": 204,
     "metadata": {},
     "output_type": "execute_result"
    }
   ],
   "source": [
    "np.allclose(squareform(pdist(coords)),distMat)"
   ]
  },
  {
   "cell_type": "code",
   "execution_count": null,
   "metadata": {
    "collapsed": true
   },
   "outputs": [],
   "source": []
  }
 ],
 "metadata": {
  "anaconda-cloud": {},
  "kernelspec": {
   "display_name": "Python [conda root]",
   "language": "python",
   "name": "conda-root-py"
  },
  "language_info": {
   "codemirror_mode": {
    "name": "ipython",
    "version": 3
   },
   "file_extension": ".py",
   "mimetype": "text/x-python",
   "name": "python",
   "nbconvert_exporter": "python",
   "pygments_lexer": "ipython3",
   "version": "3.5.2"
  }
 },
 "nbformat": 4,
 "nbformat_minor": 1
}
