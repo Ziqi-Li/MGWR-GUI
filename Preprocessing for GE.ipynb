{
 "cells": [
  {
   "cell_type": "code",
   "execution_count": 2,
   "metadata": {
    "collapsed": true
   },
   "outputs": [],
   "source": [
    "import sys\n",
    "sys.path.append('/Users/Ziqi/Desktop/developer/GWR-UI-ZIQI/pysal/contrib/gwr/')\n",
    "from pysal.contrib.gwr.gwr import MGWR,GWR\n",
    "from pysal.contrib.glm.glm import GLM\n",
    "from pysal.contrib.gwr.sel_bw import Sel_BW\n",
    "import numpy as np\n",
    "import pandas as pd\n",
    "import scipy\n",
    "df = pd.read_csv('/Users/Ziqi/Desktop/developer/GWR-UI-ZIQI/test.csv') "
   ]
  },
  {
   "cell_type": "code",
   "execution_count": 101,
   "metadata": {
    "collapsed": true
   },
   "outputs": [],
   "source": [
    "y = df.z_pct_dem.as_matrix().reshape(-1,1)\n",
    "df['Intercept'] = 1\n",
    "X = df.ix[:,5:7].as_matrix()\n",
    "u = df.proj_X\n",
    "v = df.proj_Y\n",
    "coords = list(zip(u,v))"
   ]
  },
  {
   "cell_type": "code",
   "execution_count": 177,
   "metadata": {
    "collapsed": false
   },
   "outputs": [
    {
     "data": {
      "text/plain": [
       "array([1, 2, 0])"
      ]
     },
     "execution_count": 177,
     "metadata": {},
     "output_type": "execute_result"
    }
   ],
   "source": [
    "coor4 = coords[1:4]\n",
    "X4 = X[1:4]\n",
    "Y4 = y[1:4]\n",
    "a = np.empty([3, 3, 4])\n",
    "dm = scipy.spatial.distance.squareform(scipy.spatial.distance.pdist(coor4))\n",
    "a[:,:,0] = dm\n",
    "a[:,:,1] = np.repeat(X4[:,0],repeats=3).reshape((3,3))\n",
    "a[:,:,2] = np.repeat(X4[:,1],repeats=3).reshape((3,3))\n",
    "a[:,:,3] = np.repeat(Y4,repeats=3).reshape((3,3))\n",
    "np.argsort(a[1,:,0],axis=0)"
   ]
  },
  {
   "cell_type": "code",
   "execution_count": 187,
   "metadata": {
    "collapsed": false
   },
   "outputs": [
    {
     "data": {
      "text/plain": [
       "array([0, 1, 2])"
      ]
     },
     "execution_count": 187,
     "metadata": {},
     "output_type": "execute_result"
    }
   ],
   "source": [
    "np.argsort(dm[0,:])"
   ]
  },
  {
   "cell_type": "code",
   "execution_count": 190,
   "metadata": {
    "collapsed": false
   },
   "outputs": [
    {
     "data": {
      "text/plain": [
       "[0.0, 243969.04156381413, 299112.25536373653]"
      ]
     },
     "execution_count": 190,
     "metadata": {},
     "output_type": "execute_result"
    }
   ],
   "source": [
    "sorted(dm[1,:])"
   ]
  },
  {
   "cell_type": "code",
   "execution_count": 157,
   "metadata": {
    "collapsed": false
   },
   "outputs": [
    {
     "data": {
      "text/plain": [
       "array([[[  2.99112255e+05,   1.41787290e+00,   1.88336683e-01,\n",
       "           9.13512381e-01],\n",
       "        [  0.00000000e+00,   1.41787290e+00,   1.88336683e-01,\n",
       "           9.13512381e-01],\n",
       "        [  2.43969042e+05,   1.41787290e+00,   1.88336683e-01,\n",
       "           9.13512381e-01]],\n",
       "\n",
       "       [[  3.04785005e+05,   1.24300530e+00,   1.33004095e-01,\n",
       "          -7.64669266e-01],\n",
       "        [  2.43969042e+05,   1.24300530e+00,   1.33004095e-01,\n",
       "          -7.64669266e-01],\n",
       "        [  0.00000000e+00,   1.24300530e+00,   1.33004095e-01,\n",
       "          -7.64669266e-01]],\n",
       "\n",
       "       [[  0.00000000e+00,  -4.26980312e-01,  -4.57210182e-01,\n",
       "          -8.87673864e-01],\n",
       "        [  2.99112255e+05,  -4.26980312e-01,  -4.57210182e-01,\n",
       "          -8.87673864e-01],\n",
       "        [  3.04785005e+05,  -4.26980312e-01,  -4.57210182e-01,\n",
       "          -8.87673864e-01]]])"
      ]
     },
     "execution_count": 157,
     "metadata": {},
     "output_type": "execute_result"
    }
   ],
   "source": [
    "a[1]"
   ]
  },
  {
   "cell_type": "code",
   "execution_count": 146,
   "metadata": {
    "collapsed": false
   },
   "outputs": [
    {
     "ename": "IndexError",
     "evalue": "index 3 is out of bounds for axis 2 with size 3",
     "output_type": "error",
     "traceback": [
      "\u001b[0;31m---------------------------------------------------------------------------\u001b[0m",
      "\u001b[0;31mIndexError\u001b[0m                                Traceback (most recent call last)",
      "\u001b[0;32m<ipython-input-146-761a81914159>\u001b[0m in \u001b[0;36m<module>\u001b[0;34m()\u001b[0m\n\u001b[0;32m----> 1\u001b[0;31m \u001b[0ma\u001b[0m\u001b[0;34m[\u001b[0m\u001b[0;34m:\u001b[0m\u001b[0;34m,\u001b[0m\u001b[0;34m:\u001b[0m\u001b[0;34m,\u001b[0m\u001b[0;36m3\u001b[0m\u001b[0;34m]\u001b[0m\u001b[0;34m\u001b[0m\u001b[0m\n\u001b[0m",
      "\u001b[0;31mIndexError\u001b[0m: index 3 is out of bounds for axis 2 with size 3"
     ]
    }
   ],
   "source": [
    "a[:,:,3]"
   ]
  },
  {
   "cell_type": "code",
   "execution_count": 147,
   "metadata": {
    "collapsed": false
   },
   "outputs": [
    {
     "data": {
      "text/plain": [
       "array([[-0.88767386],\n",
       "       [ 0.91351238],\n",
       "       [-0.76466927]])"
      ]
     },
     "execution_count": 147,
     "metadata": {},
     "output_type": "execute_result"
    }
   ],
   "source": [
    "Y4"
   ]
  },
  {
   "cell_type": "code",
   "execution_count": null,
   "metadata": {
    "collapsed": true
   },
   "outputs": [],
   "source": []
  },
  {
   "cell_type": "code",
   "execution_count": null,
   "metadata": {
    "collapsed": true
   },
   "outputs": [],
   "source": []
  },
  {
   "cell_type": "code",
   "execution_count": null,
   "metadata": {
    "collapsed": true
   },
   "outputs": [],
   "source": []
  }
 ],
 "metadata": {
  "kernelspec": {
   "display_name": "Python [conda root]",
   "language": "python",
   "name": "conda-root-py"
  },
  "language_info": {
   "codemirror_mode": {
    "name": "ipython",
    "version": 3
   },
   "file_extension": ".py",
   "mimetype": "text/x-python",
   "name": "python",
   "nbconvert_exporter": "python",
   "pygments_lexer": "ipython3",
   "version": "3.5.2"
  }
 },
 "nbformat": 4,
 "nbformat_minor": 1
}
