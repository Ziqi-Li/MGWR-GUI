{
 "cells": [
  {
   "cell_type": "code",
   "execution_count": 2,
   "metadata": {
    "collapsed": false
   },
   "outputs": [],
   "source": [
    "import numpy as np\n",
    "import pandas as pd\n",
    "import pysal as ps\n",
    "from pysal.contrib.gwr.sel_bw import Sel_BW\n",
    "from pysal.contrib.gwr.gwr import GWR\n",
    "from pysal.contrib.glm.family import Gaussian\n",
    "from scipy.stats import pearsonr"
   ]
  },
  {
   "cell_type": "code",
   "execution_count": 3,
   "metadata": {
    "collapsed": false
   },
   "outputs": [],
   "source": [
    "#Data\n",
    "\n",
    "data = '/Users/toshan/dev/pysal/pysal/examples/georgia/GData_utm.csv'\n",
    "data = pd.read_csv(data)\n",
    "#shp = gp.read_file('/Users/toshan/dev/pysal/pysal/examples/georgia/G_utm.shp')\n",
    "#shp.plot()"
   ]
  },
  {
   "cell_type": "code",
   "execution_count": 4,
   "metadata": {
    "collapsed": false
   },
   "outputs": [
    {
     "name": "stderr",
     "output_type": "stream",
     "text": [
      "/anaconda/envs/test_gwr/lib/python2.7/site-packages/ipykernel/__main__.py:4: FutureWarning: reshape is deprecated and will raise in a subsequent release. Please use .values.reshape(...) instead\n",
      "/anaconda/envs/test_gwr/lib/python2.7/site-packages/ipykernel/__main__.py:7: FutureWarning: reshape is deprecated and will raise in a subsequent release. Please use .values.reshape(...) instead\n",
      "/anaconda/envs/test_gwr/lib/python2.7/site-packages/ipykernel/__main__.py:8: FutureWarning: reshape is deprecated and will raise in a subsequent release. Please use .values.reshape(...) instead\n",
      "/anaconda/envs/test_gwr/lib/python2.7/site-packages/ipykernel/__main__.py:9: FutureWarning: reshape is deprecated and will raise in a subsequent release. Please use .values.reshape(...) instead\n"
     ]
    }
   ],
   "source": [
    "# Prep data into design matrix and coordinates\n",
    "\n",
    "#Dependent variable\n",
    "y = data.PctBach.reshape((-1,1))\n",
    "\n",
    "#Design matrix - covariates - intercept added automatically\n",
    "pov = data.PctPov.reshape((-1,1))\n",
    "rural = data.PctRural.reshape((-1,1))\n",
    "blk = data.PctBlack.reshape((-1,1))\n",
    "X = np.hstack([rural, pov, blk])\n",
    "labels = ['Intercept', 'PctPov', 'PctRural', 'PctBlack']\n",
    "\n",
    "#Coordinates for calibration points\n",
    "u = data.X\n",
    "v = data.Y\n",
    "coords = np.array(zip(u,v))\n",
    "\n"
   ]
  },
  {
   "cell_type": "code",
   "execution_count": 7,
   "metadata": {
    "collapsed": false
   },
   "outputs": [
    {
     "name": "stdout",
     "output_type": "stream",
     "text": [
      "93.0\n"
     ]
    }
   ],
   "source": [
    "index = np.arange(len(y))\n",
    "train = index[0:-10]\n",
    "test = index[-10:]\n",
    "\n",
    "y_train = y[train]\n",
    "X_train = X[train]\n",
    "coords_train = list(coords[train])\n",
    "\n",
    "y_test = y[test]\n",
    "X_test = X[test]\n",
    "coords_test = list(coords[test])\n",
    "\n",
    "bw = Sel_BW(coords, y, X, kernel='bisquare', fixed=False)\n",
    "bw = bw.search(search='golden_section', criterion='AICc')\n",
    "print bw\n",
    "\n",
    "model = GWR(coords, y, X, bw, family=Gaussian(), fixed=False, kernel='bisquare')\n",
    "results = model.predict(coords_test, X_test)"
   ]
  },
  {
   "cell_type": "code",
   "execution_count": 8,
   "metadata": {
    "collapsed": false
   },
   "outputs": [
    {
     "data": {
      "text/plain": [
       "array([[ 10.51695514],\n",
       "       [  9.93321992],\n",
       "       [  8.92473026],\n",
       "       [  5.47350219],\n",
       "       [  8.61756585],\n",
       "       [ 12.8141851 ],\n",
       "       [  5.55619405],\n",
       "       [ 12.63004172],\n",
       "       [  8.70638418],\n",
       "       [  8.17582599]])"
      ]
     },
     "execution_count": 8,
     "metadata": {},
     "output_type": "execute_result"
    }
   ],
   "source": [
    "results.predictions"
   ]
  },
  {
   "cell_type": "code",
   "execution_count": 50,
   "metadata": {
    "collapsed": false
   },
   "outputs": [
    {
     "name": "stdout",
     "output_type": "stream",
     "text": [
      "93.0\n"
     ]
    }
   ],
   "source": [
    "bw = Sel_BW(coords, y, X, kernel='bisquare', fixed=False)\n",
    "bw = bw.search(search='golden_section', criterion='AICc')\n",
    "print bw\n",
    "\n",
    "t = GWR(coords, y, X, bw).fit()\n",
    "\n",
    "model = GWR(coords, y, X, bw, family=Gaussian(), fixed=False, kernel='bisquare')\n",
    "results = model.predict(coords_test, X_test)\n"
   ]
  },
  {
   "cell_type": "code",
   "execution_count": 51,
   "metadata": {
    "collapsed": false
   },
   "outputs": [
    {
     "name": "stdout",
     "output_type": "stream",
     "text": [
      "(array([ 0.45389284]), array([ 0.18761856]))\n",
      "[[  2.27719806e+01  -2.15093080e-01  -1.02539506e-01  -1.40496359e-02]\n",
      " [  1.91053102e+01  -2.32528744e-01  -9.41767859e-02   7.19130384e-02]\n",
      " [  1.97434217e+01  -3.08929815e-01  -8.04472131e-02   8.32061891e-02]\n",
      " [  1.75057600e+01  -1.87954544e-01  -7.89191503e-02   5.17192228e-02]\n",
      " [  2.77474018e+01  -2.08553416e-01  -1.65334529e-01   4.06743861e-03]\n",
      " [  2.62106267e+01  -3.60514422e-01  -1.38397963e-01   7.21984934e-02]\n",
      " [  1.80348332e+01  -2.60555691e-01  -7.70473064e-02   8.43194028e-02]\n",
      " [  2.84528022e+01  -1.40970116e-01  -1.63408415e-01  -6.30756266e-02]\n",
      " [  2.23530956e+01  -2.26653837e-01  -1.03045606e-01   2.99244694e-03]\n",
      " [  1.82205077e+01  -3.09812424e-01  -7.40336720e-02   1.08635554e-01]]\n",
      "[[  2.27719806e+01  -2.15093080e-01  -1.02539506e-01  -1.40496359e-02]\n",
      " [  1.91053102e+01  -2.32528744e-01  -9.41767859e-02   7.19130384e-02]\n",
      " [  1.97434217e+01  -3.08929815e-01  -8.04472131e-02   8.32061891e-02]\n",
      " [  1.75057600e+01  -1.87954544e-01  -7.89191503e-02   5.17192228e-02]\n",
      " [  2.77474018e+01  -2.08553416e-01  -1.65334529e-01   4.06743861e-03]\n",
      " [  2.62106267e+01  -3.60514422e-01  -1.38397963e-01   7.21984934e-02]\n",
      " [  1.80348332e+01  -2.60555691e-01  -7.70473064e-02   8.43194028e-02]\n",
      " [  2.84528022e+01  -1.40970116e-01  -1.63408415e-01  -6.30756266e-02]\n",
      " [  2.23530956e+01  -2.26653837e-01  -1.03045606e-01   2.99244694e-03]\n",
      " [  1.82205077e+01  -3.09812424e-01  -7.40336720e-02   1.08635554e-01]]\n"
     ]
    }
   ],
   "source": [
    "print pearsonr(results.predictions, y_test)\n",
    "\n",
    "print results.params[0:]\n",
    "print t.params[-10:]\n"
   ]
  },
  {
   "cell_type": "code",
   "execution_count": 26,
   "metadata": {
    "collapsed": false
   },
   "outputs": [
    {
     "name": "stdout",
     "output_type": "stream",
     "text": [
      "93.0\n",
      "159\n",
      "0.56813744327\n"
     ]
    }
   ],
   "source": [
    "#Find optimal bandwidth using golden section search to minimize AICc\n",
    "\n",
    "#Instantiate bandwidth selection class - bisquare NN (adaptive)\n",
    "bw = Sel_BW(coords, y, X, kernel='bisquare', fixed=False)\n",
    "\n",
    "#Find optimal bandwidth by minimizing AICc using golden section search algorithm\n",
    "bw = bw.search(search='golden_section', criterion='AICc')\n",
    "print bw\n",
    "\n",
    "model_a = GWR(coords, y, X, bw, family=Gaussian(), fixed=False, kernel='bisquare')\n",
    "results_a = model_a.fit()\n",
    "\n",
    "print len(results_a.localR2)\n",
    "print np.mean(results_a.localR2)\n",
    "exog_scale = results_a.scale\n",
    "exog_resid = results_a.resid_response"
   ]
  },
  {
   "cell_type": "code",
   "execution_count": 9,
   "metadata": {
    "collapsed": false
   },
   "outputs": [
    {
     "ename": "NameError",
     "evalue": "name 'exog_scale' is not defined",
     "output_type": "error",
     "traceback": [
      "\u001b[0;31m---------------------------------------------------------------------------\u001b[0m",
      "\u001b[0;31mNameError\u001b[0m                                 Traceback (most recent call last)",
      "\u001b[0;32m<ipython-input-9-06cdae655127>\u001b[0m in \u001b[0;36m<module>\u001b[0;34m()\u001b[0m\n\u001b[0;32m----> 1\u001b[0;31m \u001b[0mmodel_b\u001b[0m \u001b[0;34m=\u001b[0m \u001b[0mGWR\u001b[0m\u001b[0;34m(\u001b[0m\u001b[0mcoords\u001b[0m\u001b[0;34m,\u001b[0m \u001b[0my\u001b[0m\u001b[0;34m,\u001b[0m \u001b[0mX\u001b[0m\u001b[0;34m,\u001b[0m \u001b[0;36m93\u001b[0m\u001b[0;34m,\u001b[0m \u001b[0mfamily\u001b[0m\u001b[0;34m=\u001b[0m\u001b[0mGaussian\u001b[0m\u001b[0;34m(\u001b[0m\u001b[0;34m)\u001b[0m\u001b[0;34m,\u001b[0m \u001b[0mfixed\u001b[0m\u001b[0;34m=\u001b[0m\u001b[0mFalse\u001b[0m\u001b[0;34m,\u001b[0m \u001b[0mkernel\u001b[0m\u001b[0;34m=\u001b[0m\u001b[0;34m'bisquare'\u001b[0m\u001b[0;34m,\u001b[0m \u001b[0mpoints\u001b[0m\u001b[0;34m=\u001b[0m\u001b[0mcoords_b\u001b[0m\u001b[0;34m,\u001b[0m \u001b[0mexog_scale\u001b[0m\u001b[0;34m=\u001b[0m\u001b[0mexog_scale\u001b[0m\u001b[0;34m,\u001b[0m \u001b[0mexog_resid\u001b[0m\u001b[0;34m=\u001b[0m\u001b[0mexog_resid\u001b[0m\u001b[0;34m)\u001b[0m\u001b[0;34m\u001b[0m\u001b[0m\n\u001b[0m\u001b[1;32m      2\u001b[0m \u001b[0mresults_b\u001b[0m \u001b[0;34m=\u001b[0m \u001b[0mmodel_b\u001b[0m\u001b[0;34m.\u001b[0m\u001b[0mfit\u001b[0m\u001b[0;34m(\u001b[0m\u001b[0;34m)\u001b[0m\u001b[0;34m\u001b[0m\u001b[0m\n\u001b[1;32m      3\u001b[0m \u001b[0;34m\u001b[0m\u001b[0m\n\u001b[1;32m      4\u001b[0m \u001b[0;32mprint\u001b[0m \u001b[0mlen\u001b[0m\u001b[0;34m(\u001b[0m\u001b[0mresults_b\u001b[0m\u001b[0;34m.\u001b[0m\u001b[0mlocalR2\u001b[0m\u001b[0;34m)\u001b[0m\u001b[0;34m\u001b[0m\u001b[0m\n\u001b[1;32m      5\u001b[0m \u001b[0;32mprint\u001b[0m \u001b[0mnp\u001b[0m\u001b[0;34m.\u001b[0m\u001b[0mmean\u001b[0m\u001b[0;34m(\u001b[0m\u001b[0mresults_b\u001b[0m\u001b[0;34m.\u001b[0m\u001b[0mlocalR2\u001b[0m\u001b[0;34m)\u001b[0m\u001b[0;34m\u001b[0m\u001b[0m\n",
      "\u001b[0;31mNameError\u001b[0m: name 'exog_scale' is not defined"
     ]
    }
   ],
   "source": [
    "model_b = GWR(coords, y, X, 93, family=Gaussian(), fixed=False, kernel='bisquare', points=coords_b, exog_scale=exog_scale, exog_resid=exog_resid)\n",
    "results_b = model_b.fit()\n",
    "\n",
    "print len(results_b.localR2)\n",
    "print np.mean(results_b.localR2)\n",
    "results_b.params"
   ]
  },
  {
   "cell_type": "code",
   "execution_count": 9,
   "metadata": {
    "collapsed": false
   },
   "outputs": [
    {
     "name": "stdout",
     "output_type": "stream",
     "text": [
      "[ 0.10295359  0.12385708  0.10256179  0.11029685  0.12763962  0.13120828\n",
      "  0.11315837  0.11694384  0.09973951  0.1078668 ]\n",
      "[-2.08922363 -1.87739571 -3.01213362 -1.70407901 -1.63392388 -2.74764987\n",
      " -2.3025755  -1.20545144 -2.27245792 -2.87217588]\n",
      "[[ 0.53068693]\n",
      " [ 0.59582647]\n",
      " [ 0.59700925]\n",
      " [ 0.45769954]\n",
      " [ 0.54634509]\n",
      " [ 0.5494828 ]\n",
      " [ 0.55159604]\n",
      " [ 0.55634237]\n",
      " [ 0.53903842]\n",
      " [ 0.55884954]]\n"
     ]
    }
   ],
   "source": [
    "print results_b.bse[0:10, 1]\n",
    "\n",
    "print results_b.tvalues[0:10, 1]\n",
    "\n",
    "print results_b.localR2"
   ]
  },
  {
   "cell_type": "code",
   "execution_count": 12,
   "metadata": {
    "collapsed": false
   },
   "outputs": [
    {
     "ename": "NameError",
     "evalue": "name 'results' is not defined",
     "output_type": "error",
     "traceback": [
      "\u001b[0;31m---------------------------------------------------------------------------\u001b[0m",
      "\u001b[0;31mNameError\u001b[0m                                 Traceback (most recent call last)",
      "\u001b[0;32m<ipython-input-12-d127818b2d26>\u001b[0m in \u001b[0;36m<module>\u001b[0;34m()\u001b[0m\n\u001b[1;32m      1\u001b[0m \u001b[0;31m#Results in a set of mappable results\u001b[0m\u001b[0;34m\u001b[0m\u001b[0;34m\u001b[0m\u001b[0m\n\u001b[0;32m----> 2\u001b[0;31m \u001b[0mresults\u001b[0m\u001b[0;34m.\u001b[0m\u001b[0mparams\u001b[0m\u001b[0;34m.\u001b[0m\u001b[0mshape\u001b[0m\u001b[0;34m\u001b[0m\u001b[0m\n\u001b[0m",
      "\u001b[0;31mNameError\u001b[0m: name 'results' is not defined"
     ]
    }
   ],
   "source": [
    "#Results in a set of mappable results \n",
    "results.params.shape"
   ]
  },
  {
   "cell_type": "code",
   "execution_count": null,
   "metadata": {
    "collapsed": false,
    "scrolled": false
   },
   "outputs": [],
   "source": [
    "#Map Parameter estimates and T-vals for each covariate\n",
    "\n",
    "for param in range(results.params.shape[1]):\n",
    "    shp[str(param)] = results.params[:,param]\n",
    "    vmin, vmax = np.min(shp[str(param)]), np.max(shp[str(param)]) \n",
    "    ax = shp.plot(str(param), vmin=vmin, vmax=vmax, figsize=(8,8), cmap='YlOrRd')\n",
    "    ax.set_title(labels[param] + ' Estimates')\n",
    "    fig = ax.get_figure()\n",
    "    cax = fig.add_axes([0.9, 0.1, 0.03, 0.8])\n",
    "    sm = plt.cm.ScalarMappable(norm=plt.Normalize(vmin=vmin, vmax=vmax), cmap='YlOrRd')\n",
    "    sm._A = []\n",
    "    fig.colorbar(sm, cax=cax)\n",
    "    \n",
    "    shp[str(param)] = results.tvalues[:,param]\n",
    "    vmin, vmax = np.min(shp[str(param)]), np.max(shp[str(param)]) \n",
    "    ax = shp.plot(str(param), vmin=vmin, vmax=vmax, figsize=(8,8), cmap='Greys')\n",
    "    ax.set_title(labels[param] + ' T-vals')\n",
    "    fig = ax.get_figure()\n",
    "    cax = fig.add_axes([0.9, 0.1, 0.03, 0.8])\n",
    "    sm = plt.cm.ScalarMappable(norm=plt.Normalize(vmin=vmin, vmax=vmax), cmap='Greys')\n",
    "    sm._A = []\n",
    "    fig.colorbar(sm, cax=cax)\n",
    "\n",
    "    "
   ]
  },
  {
   "cell_type": "code",
   "execution_count": 121,
   "metadata": {
    "collapsed": false
   },
   "outputs": [
    {
     "data": {
      "text/plain": [
       "<matplotlib.colorbar.Colorbar at 0x136d8b150>"
      ]
     },
     "execution_count": 121,
     "metadata": {},
     "output_type": "execute_result"
    },
    {
     "data": {
      "image/png": "[encoded data removed]",
      "text/plain": [
       "<matplotlib.figure.Figure at 0x1358c6410>"
      ]
     },
     "metadata": {},
     "output_type": "display_data"
    }
   ],
   "source": [
    "#Map local R-square values which is a weighted R-square at each observation location\n",
    "\n",
    "shp['localR2'] = results.localR2\n",
    "vmin, vmax = np.min(shp['localR2']), np.max(shp['localR2']) \n",
    "ax = shp.plot('localR2', vmin=vmin, vmax=vmax, figsize=(8,8), cmap='PuBuGn')\n",
    "ax.set_title('Local R-Squared')\n",
    "fig = ax.get_figure()\n",
    "cax = fig.add_axes([0.9, 0.1, 0.03, 0.8])\n",
    "sm = plt.cm.ScalarMappable(norm=plt.Normalize(vmin=vmin, vmax=vmax), cmap='PuBuGn')\n",
    "sm._A = []\n",
    "fig.colorbar(sm, cax=cax)\n",
    "\n"
   ]
  },
  {
   "cell_type": "code",
   "execution_count": 9,
   "metadata": {
    "collapsed": true
   },
   "outputs": [],
   "source": [
    "??GWR\n"
   ]
  },
  {
   "cell_type": "code",
   "execution_count": 11,
   "metadata": {
    "collapsed": false
   },
   "outputs": [],
   "source": [
    "dists = np.zeros((10,159))\n",
    "for x, point1 in enumerate(coords_b):\n",
    "    for y, point2 in enumerate(coords):\n",
    "        \n",
    "        dists[x,y] = np.sqrt((point1[0] - point2[0])**2 + (point1[1] - point2[1])**2)"
   ]
  },
  {
   "cell_type": "code",
   "execution_count": 12,
   "metadata": {
    "collapsed": false
   },
   "outputs": [
    {
     "data": {
      "text/plain": [
       "array([[ 135141.51708594,  176669.03854578,  150233.03041745, ...,\n",
       "         101245.68031101,   37465.45393773,  186494.71599871],\n",
       "       [  53079.72071743,   93989.76293746,   56523.70300113, ...,\n",
       "         272750.51071353,  192366.73910219,  185946.3168796 ],\n",
       "       [ 211071.91332835,  179410.69684634,  203731.38642588, ...,\n",
       "         259876.04309332,  157691.66651843,   90086.32599479],\n",
       "       ..., \n",
       "       [ 233459.02913062,  277886.65118938,  250155.19163993, ...,\n",
       "              0.        ,  116483.88542009,  277512.51277944],\n",
       "       [ 142506.80885168,  169996.21028779,  153162.14012036, ...,\n",
       "         116483.88542009,       0.        ,  161268.74061156],\n",
       "       [ 144540.5180503 ,   95782.96853831,  130844.73173151, ...,\n",
       "         277512.51277944,  161268.74061156,       0.        ]])"
      ]
     },
     "execution_count": 12,
     "metadata": {},
     "output_type": "execute_result"
    }
   ],
   "source": [
    "dists"
   ]
  },
  {
   "cell_type": "code",
   "execution_count": 11,
   "metadata": {
    "collapsed": true
   },
   "outputs": [],
   "source": [
    "from pysal.contrib.gwr.kernels import adapt_bisquare, _Kernel"
   ]
  },
  {
   "cell_type": "code",
   "execution_count": 26,
   "metadata": {
    "collapsed": true
   },
   "outputs": [],
   "source": [
    "all_coords = np.vstack([coords, coords_b])\n",
    "\n",
    "W = adapt_bisquare(all_coords, 93)\n",
    "\n",
    "i = len(coords_b)\n",
    "j = len(coords)\n",
    "W = W[i:, :-j].T"
   ]
  },
  {
   "cell_type": "code",
   "execution_count": 10,
   "metadata": {
    "collapsed": false
   },
   "outputs": [],
   "source": [
    "test = _Kernel(coords, fixed=False, function='bisquare', truncate=False, k=92, points=coords_b)"
   ]
  },
  {
   "cell_type": "code",
   "execution_count": 11,
   "metadata": {
    "collapsed": false
   },
   "outputs": [
    {
     "data": {
      "text/plain": [
       "array([[  2.14343799e-01,   6.75977473e-03,   1.13120557e-01, ...,\n",
       "          4.88014350e-01,   9.19154786e-01,   5.15666694e-04],\n",
       "       [  9.27168014e-01,   7.80855123e-01,   9.17619421e-01, ...,\n",
       "          4.11566468e-04,   2.62825351e-01,   2.96646476e-01],\n",
       "       [  2.55461442e-03,   9.86090262e-02,   1.33250285e-02, ...,\n",
       "          1.92971340e-01,   2.20950550e-01,   6.84004125e-01],\n",
       "       ..., \n",
       "       [  3.01668776e-02,   4.39435726e-01,   1.20801314e-01, ...,\n",
       "          1.00000000e+00,   5.00997875e-01,   4.33523139e-01],\n",
       "       [  1.02455255e-01,   1.05479492e-03,   4.60574281e-02, ...,\n",
       "          2.97821020e-01,   1.00000000e+00,   1.67110298e-02],\n",
       "       [  3.42081437e-01,   6.68642075e-01,   4.35361409e-01, ...,\n",
       "          2.81165199e-01,   2.33510795e-01,   1.00000000e+00]])"
      ]
     },
     "execution_count": 11,
     "metadata": {},
     "output_type": "execute_result"
    }
   ],
   "source": [
    "test.kernel"
   ]
  },
  {
   "cell_type": "code",
   "execution_count": 49,
   "metadata": {
    "collapsed": false
   },
   "outputs": [
    {
     "data": {
      "text/plain": [
       "array([ 0.        ,  0.17538125,  0.87525431,  0.42934275,  0.80242504,\n",
       "        0.70359714,  0.27695634,  0.        ,  0.03083999,  0.76946793,\n",
       "        0.7311884 ,  0.        ,  0.        ,  0.79126134,  0.70002409,\n",
       "        0.        ,  0.        ,  0.        ,  0.        ,  0.00106685,\n",
       "        0.        ,  0.7250386 ,  0.        ,  0.85643026,  0.34265747,\n",
       "        0.01878214,  0.50266628,  0.        ,  0.        ,  0.1835491 ,\n",
       "        0.        ,  0.        ,  0.11051018,  0.        ,  0.43041104,\n",
       "        0.05143613,  0.10487   ,  0.        ,  0.02865854,  0.6171386 ,\n",
       "        0.66370484,  0.        ,  0.58953303,  0.85720095,  0.        ,\n",
       "        0.        ,  0.        ,  0.        ,  0.        ,  0.        ,\n",
       "        0.        ,  0.06040493,  0.80528346,  0.        ,  0.17767534,\n",
       "        0.        ,  0.        ,  0.        ,  0.        ,  0.        ,\n",
       "        0.        ,  0.        ,  0.        ,  0.        ,  0.        ,\n",
       "        0.04826184,  0.58892109,  0.        ,  0.        ,  0.96186502,\n",
       "        0.18599788,  0.4800177 ,  0.40543209,  0.        ,  0.        ,\n",
       "        0.63230904,  0.42509109,  0.07603503,  0.85398556,  0.        ,\n",
       "        0.88942771,  0.55254905,  0.        ,  0.00509282,  0.8178033 ,\n",
       "        0.        ,  0.        ,  0.        ,  0.        ,  0.06647948,\n",
       "        0.17309084,  0.        ,  0.85232385,  0.        ,  0.        ,\n",
       "        0.        ,  0.        ,  0.        ,  0.        ,  0.        ,\n",
       "        0.        ,  0.        ,  0.94253873,  0.        ,  0.        ,\n",
       "        0.24485917,  0.        ,  0.        ,  0.        ,  0.        ,\n",
       "        0.10398147,  0.        ,  0.        ,  0.4884651 ,  0.06003501,\n",
       "        0.        ,  0.        ,  0.        ,  0.00648795,  0.        ,\n",
       "        0.        ,  0.92289548,  0.        ,  0.78258809,  0.01501169,\n",
       "        0.30025862,  0.46065143,  0.9013738 ,  0.        ,  0.68516546,\n",
       "        0.        ,  0.31872397,  0.00733061,  0.        ,  0.        ,\n",
       "        0.        ,  0.        ,  0.83474417,  0.00833362,  0.17211238,\n",
       "        0.920988  ,  0.        ,  0.77178798,  0.        ,  0.        ,\n",
       "        0.37447591,  0.        ,  0.05710858,  0.28441712,  0.17211238,\n",
       "        0.920988  ,  0.        ,  0.77178798,  0.        ,  0.        ,\n",
       "        0.37447591,  0.        ,  0.05710858,  0.28441712])"
      ]
     },
     "execution_count": 49,
     "metadata": {},
     "output_type": "execute_result"
    }
   ],
   "source": [
    "W[0]"
   ]
  },
  {
   "cell_type": "code",
   "execution_count": 13,
   "metadata": {
    "collapsed": false
   },
   "outputs": [],
   "source": [
    "from pysal.contrib.gwr.kernels import adapt_bisquare, _Kernel\n",
    "#W = adapt_bisquare(coords, 93, coords_b)\n",
    "w = _Kernel(coords, fixed=False, k=93-1, function='bisquare', points=coords_b, truncate=False)\n",
    "#W = _Kernel(coords, fixed=False, function='bisquare', truncate=False, k=92, points=coords_b)"
   ]
  },
  {
   "cell_type": "code",
   "execution_count": 16,
   "metadata": {
    "collapsed": false
   },
   "outputs": [
    {
     "data": {
      "text/plain": [
       "array([[ 184412.62167661],\n",
       "       [ 275559.98944177],\n",
       "       [ 216617.15163301],\n",
       "       [ 187859.24904361],\n",
       "       [ 267873.107272  ],\n",
       "       [ 313030.23895156],\n",
       "       [ 177791.79358056],\n",
       "       [ 215493.75350882],\n",
       "       [ 172825.86012155],\n",
       "       [ 224337.23222372]])"
      ]
     },
     "execution_count": 16,
     "metadata": {},
     "output_type": "execute_result"
    }
   ],
   "source": [
    "w.bandwidth"
   ]
  },
  {
   "cell_type": "code",
   "execution_count": 10,
   "metadata": {
    "collapsed": true
   },
   "outputs": [],
   "source": [
    "??adapt_bisquare()"
   ]
  },
  {
   "cell_type": "code",
   "execution_count": 8,
   "metadata": {
    "collapsed": false
   },
   "outputs": [
    {
     "ename": "ValueError",
     "evalue": "operands could not be broadcast together with shapes (4,1) (159,1) ",
     "output_type": "error",
     "traceback": [
      "\u001b[0;31m---------------------------------------------------------------------------\u001b[0m",
      "\u001b[0;31mValueError\u001b[0m                                Traceback (most recent call last)",
      "\u001b[0;32m<ipython-input-8-4ac9090f9d7c>\u001b[0m in \u001b[0;36m<module>\u001b[0;34m()\u001b[0m\n\u001b[0;32m----> 1\u001b[0;31m \u001b[0mresults_a\u001b[0m\u001b[0;34m.\u001b[0m\u001b[0mTSS\u001b[0m \u001b[0;34m/\u001b[0m \u001b[0mresults_a\u001b[0m\u001b[0;34m.\u001b[0m\u001b[0mRSS\u001b[0m\u001b[0;34m\u001b[0m\u001b[0m\n\u001b[0m",
      "\u001b[0;31mValueError\u001b[0m: operands could not be broadcast together with shapes (4,1) (159,1) "
     ]
    }
   ],
   "source": [
    "results_a.TSS / results_a.RSS"
   ]
  },
  {
   "cell_type": "code",
   "execution_count": 10,
   "metadata": {
    "collapsed": false
   },
   "outputs": [
    {
     "data": {
      "text/plain": [
       "array([[ 0.55018249],\n",
       "       [ 0.55508304],\n",
       "       [ 0.55067801],\n",
       "       [ 0.56737294],\n",
       "       [ 0.56034496],\n",
       "       [ 0.55163749],\n",
       "       [ 0.55802282],\n",
       "       [ 0.56646836],\n",
       "       [ 0.50958839],\n",
       "       [ 0.5488834 ],\n",
       "       [ 0.57973455],\n",
       "       [ 0.53019011],\n",
       "       [ 0.60128026],\n",
       "       [ 0.56221182],\n",
       "       [ 0.60339059],\n",
       "       [ 0.5763165 ],\n",
       "       [ 0.54286951],\n",
       "       [ 0.5833684 ],\n",
       "       [ 0.57449946],\n",
       "       [ 0.61737272],\n",
       "       [ 0.55380111],\n",
       "       [ 0.61102546],\n",
       "       [ 0.54879739],\n",
       "       [ 0.60489614],\n",
       "       [ 0.61531061],\n",
       "       [ 0.63084783],\n",
       "       [ 0.56313164],\n",
       "       [ 0.56211435],\n",
       "       [ 0.55190234],\n",
       "       [ 0.58028618],\n",
       "       [ 0.59173197],\n",
       "       [ 0.58525895],\n",
       "       [ 0.57748692],\n",
       "       [ 0.5337402 ],\n",
       "       [ 0.55415337],\n",
       "       [ 0.54475232],\n",
       "       [ 0.55563599],\n",
       "       [ 0.61699849],\n",
       "       [ 0.60978055],\n",
       "       [ 0.57534427],\n",
       "       [ 0.55258532],\n",
       "       [ 0.55419367],\n",
       "       [ 0.55921201],\n",
       "       [ 0.57623454],\n",
       "       [ 0.50215786],\n",
       "       [ 0.58823547],\n",
       "       [ 0.56940733],\n",
       "       [ 0.59411556],\n",
       "       [ 0.5705367 ],\n",
       "       [ 0.58869272],\n",
       "       [ 0.59467316],\n",
       "       [ 0.55097965],\n",
       "       [ 0.53283037],\n",
       "       [ 0.57561545],\n",
       "       [ 0.54449461],\n",
       "       [ 0.60433883],\n",
       "       [ 0.57143884],\n",
       "       [ 0.55955218],\n",
       "       [ 0.5486125 ],\n",
       "       [ 0.58597217],\n",
       "       [ 0.54926699],\n",
       "       [ 0.54599256],\n",
       "       [ 0.61630895],\n",
       "       [ 0.55746869],\n",
       "       [ 0.55499711],\n",
       "       [ 0.55931011],\n",
       "       [ 0.56417   ],\n",
       "       [ 0.54673444],\n",
       "       [ 0.5540521 ],\n",
       "       [ 0.56008229],\n",
       "       [ 0.59327121],\n",
       "       [ 0.64547689],\n",
       "       [ 0.54818115],\n",
       "       [ 0.62552538],\n",
       "       [ 0.58738464],\n",
       "       [ 0.57551537],\n",
       "       [ 0.52859729],\n",
       "       [ 0.55451107],\n",
       "       [ 0.56953983],\n",
       "       [ 0.50665376],\n",
       "       [ 0.53630241],\n",
       "       [ 0.54924515],\n",
       "       [ 0.51356766],\n",
       "       [ 0.56402094],\n",
       "       [ 0.60593352],\n",
       "       [ 0.5664703 ],\n",
       "       [ 0.48498454],\n",
       "       [ 0.57497136],\n",
       "       [ 0.603174  ],\n",
       "       [ 0.55005894],\n",
       "       [ 0.60048813],\n",
       "       [ 0.57134237],\n",
       "       [ 0.54907691],\n",
       "       [ 0.54975445],\n",
       "       [ 0.61465079],\n",
       "       [ 0.6060417 ],\n",
       "       [ 0.55180747],\n",
       "       [ 0.62700231],\n",
       "       [ 0.63110394],\n",
       "       [ 0.56627448],\n",
       "       [ 0.55936342],\n",
       "       [ 0.59153842],\n",
       "       [ 0.49072277],\n",
       "       [ 0.56039346],\n",
       "       [ 0.54861849],\n",
       "       [ 0.64223183],\n",
       "       [ 0.56429376],\n",
       "       [ 0.55584156],\n",
       "       [ 0.55414867],\n",
       "       [ 0.58173359],\n",
       "       [ 0.59096694],\n",
       "       [ 0.55677681],\n",
       "       [ 0.5811985 ],\n",
       "       [ 0.61684415],\n",
       "       [ 0.58192915],\n",
       "       [ 0.56583346],\n",
       "       [ 0.5632224 ],\n",
       "       [ 0.59850011],\n",
       "       [ 0.54152829],\n",
       "       [ 0.58753223],\n",
       "       [ 0.54196418],\n",
       "       [ 0.56961293],\n",
       "       [ 0.60674024],\n",
       "       [ 0.56542027],\n",
       "       [ 0.56345589],\n",
       "       [ 0.59930614],\n",
       "       [ 0.54614222],\n",
       "       [ 0.61625657],\n",
       "       [ 0.59130554],\n",
       "       [ 0.63750061],\n",
       "       [ 0.55951303],\n",
       "       [ 0.56151487],\n",
       "       [ 0.62565668],\n",
       "       [ 0.47217495],\n",
       "       [ 0.58182132],\n",
       "       [ 0.55963473],\n",
       "       [ 0.54540066],\n",
       "       [ 0.53159056],\n",
       "       [ 0.54104851],\n",
       "       [ 0.49172269],\n",
       "       [ 0.6391049 ],\n",
       "       [ 0.55938683],\n",
       "       [ 0.54270534],\n",
       "       [ 0.54468759],\n",
       "       [ 0.6266155 ],\n",
       "       [ 0.55445185],\n",
       "       [ 0.55985567],\n",
       "       [ 0.59130847],\n",
       "       [ 0.55217823],\n",
       "       [ 0.53068693],\n",
       "       [ 0.59582647],\n",
       "       [ 0.59700925],\n",
       "       [ 0.45769954],\n",
       "       [ 0.54634509],\n",
       "       [ 0.5494828 ],\n",
       "       [ 0.55159604],\n",
       "       [ 0.55634237],\n",
       "       [ 0.53903842],\n",
       "       [ 0.55884954]])"
      ]
     },
     "execution_count": 10,
     "metadata": {},
     "output_type": "execute_result"
    }
   ],
   "source": [
    "results_a.localR2"
   ]
  },
  {
   "cell_type": "code",
   "execution_count": 47,
   "metadata": {
    "collapsed": false
   },
   "outputs": [
    {
     "data": {
      "text/plain": [
       "385.87740857134793"
      ]
     },
     "execution_count": 47,
     "metadata": {},
     "output_type": "execute_result"
    }
   ],
   "source": [
    "np.sum(results_b.W[0].reshape((-1,1)) * (results_b.y.reshape((-1,1)) - results_a.predy.reshape((-1,1)))**2)"
   ]
  },
  {
   "cell_type": "code",
   "execution_count": 19,
   "metadata": {
    "collapsed": false
   },
   "outputs": [
    {
     "data": {
      "text/plain": [
       "array([-0.62264884,  0.79783573, -1.90581472,  0.58585524, -1.77602421])"
      ]
     },
     "execution_count": 19,
     "metadata": {},
     "output_type": "execute_result"
    }
   ],
   "source": [
    "(results_a.y - results_a.mu)[0:5]"
   ]
  },
  {
   "cell_type": "code",
   "execution_count": 39,
   "metadata": {
    "collapsed": false
   },
   "outputs": [
    {
     "data": {
      "text/plain": [
       "array([[-0.62264884],\n",
       "       [ 0.79783573],\n",
       "       [-1.90581472],\n",
       "       [ 0.58585524],\n",
       "       [-1.77602421]])"
      ]
     },
     "execution_count": 39,
     "metadata": {},
     "output_type": "execute_result"
    }
   ],
   "source": [
    "(results_a.y.reshape((-1,1)) - results_a.predy.reshape((-1,1)))[0:5]"
   ]
  },
  {
   "cell_type": "code",
   "execution_count": 41,
   "metadata": {
    "collapsed": false
   },
   "outputs": [
    {
     "data": {
      "text/plain": [
       "array([-0.62264884,  0.79783573, -1.90581472,  0.58585524, -1.77602421])"
      ]
     },
     "execution_count": 41,
     "metadata": {},
     "output_type": "execute_result"
    }
   ],
   "source": [
    "results_a.resid_response[0:5]"
   ]
  },
  {
   "cell_type": "code",
   "execution_count": 40,
   "metadata": {
    "collapsed": false
   },
   "outputs": [
    {
     "ename": "TypeError",
     "evalue": "object of type 'GWRResults' has no len()",
     "output_type": "error",
     "traceback": [
      "\u001b[0;31m---------------------------------------------------------------------------\u001b[0m",
      "\u001b[0;31mTypeError\u001b[0m                                 Traceback (most recent call last)",
      "\u001b[0;32m<ipython-input-40-c10354c94228>\u001b[0m in \u001b[0;36m<module>\u001b[0;34m()\u001b[0m\n\u001b[0;32m----> 1\u001b[0;31m \u001b[0;32mprint\u001b[0m \u001b[0mlen\u001b[0m\u001b[0;34m(\u001b[0m\u001b[0mtest\u001b[0m\u001b[0;34m)\u001b[0m\u001b[0;34m\u001b[0m\u001b[0m\n\u001b[0m",
      "\u001b[0;31mTypeError\u001b[0m: object of type 'GWRResults' has no len()"
     ]
    }
   ],
   "source": [
    "print len(test)"
   ]
  },
  {
   "cell_type": "code",
   "execution_count": 41,
   "metadata": {
    "collapsed": false
   },
   "outputs": [
    {
     "name": "stdout",
     "output_type": "stream",
     "text": [
      "[  0   1   2   3   4   5   6   7   8   9  10  11  12  13  14  15  16  17\n",
      "  18  19  20  21  22  23  24  25  26  27  28  29  30  31  32  33  34  35\n",
      "  36  37  38  39  40  41  42  43  44  45  46  47  48  49  50  51  52  53\n",
      "  54  55  56  57  58  59  60  61  62  63  64  65  66  67  68  69  70  71\n",
      "  72  73  74  75  76  77  78  79  80  81  82  83  84  85  86  87  88  89\n",
      "  90  91  92  93  94  95  96  97  98  99 100 101 102 103 104 105 106 107\n",
      " 108 109 110 111 112 113 114 115 116 117 118 119 120 121 122 123 124 125\n",
      " 126 127 128 129 130 131 132 133 134 135 136 137 138 139 140 141 142 143\n",
      " 144 145 146 147 148]\n"
     ]
    }
   ],
   "source": [
    "print(train)"
   ]
  },
  {
   "cell_type": "code",
   "execution_count": 42,
   "metadata": {
    "collapsed": false
   },
   "outputs": [
    {
     "name": "stdout",
     "output_type": "stream",
     "text": [
      "159\n"
     ]
    }
   ],
   "source": [
    "print len(coords)"
   ]
  },
  {
   "cell_type": "code",
   "execution_count": null,
   "metadata": {
    "collapsed": true
   },
   "outputs": [],
   "source": []
  }
 ],
 "metadata": {
  "anaconda-cloud": {},
  "kernelspec": {
   "display_name": "Python [test_gwr]",
   "language": "python",
   "name": "Python [test_gwr]"
  },
  "language_info": {
   "codemirror_mode": {
    "name": "ipython",
    "version": 2
   },
   "file_extension": ".py",
   "mimetype": "text/x-python",
   "name": "python",
   "nbconvert_exporter": "python",
   "pygments_lexer": "ipython2",
   "version": "2.7.13"
  }
 },
 "nbformat": 4,
 "nbformat_minor": 0
}
